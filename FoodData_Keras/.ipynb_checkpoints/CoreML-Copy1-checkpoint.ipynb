{
 "cells": [
  {
   "cell_type": "code",
   "execution_count": 1,
   "metadata": {},
   "outputs": [],
   "source": [
    "import tensorflow as tf\n",
    "import keras\n",
    "import tensorflow_hub as hub\n",
    "import numpy as np\n",
    "from keras.preprocessing import image\n",
    "from glob import glob\n",
    "import cv2\n",
    "from sklearn.model_selection import train_test_split\n",
    "import os\n",
    "import random\n",
    "import pandas as pd\n",
    "import keras.layers as layers"
   ]
  },
  {
   "cell_type": "code",
   "execution_count": 2,
   "metadata": {},
   "outputs": [],
   "source": [
    "EffBlock=tf.keras.applications.EfficientNetB2( include_top=False,weights='imagenet', input_shape=(224,224,3))"
   ]
  },
  {
   "cell_type": "code",
   "execution_count": 3,
   "metadata": {},
   "outputs": [],
   "source": [
    "EffNet=keras.Sequential([\n",
    "    EffBlock,\n",
    "    layers.MaxPooling2D(7),\n",
    "    layers.Flatten(),\n",
    "    layers.Dense(512,input_shape=(1408,),activation=\"relu\"),\n",
    "    layers.Dropout(0.4),\n",
    "    layers.Dense(128,input_shape=(512,),activation=\"relu\"),\n",
    "    layers.Dropout(0.4),\n",
    "    layers.Dense(101,input_shape=(128,),activation=\"softmax\")\n",
    "    ])\n",
    "EffNet.build([1, 224, 224, 3])"
   ]
  },
  {
   "cell_type": "code",
   "execution_count": 4,
   "metadata": {},
   "outputs": [
    {
     "name": "stderr",
     "output_type": "stream",
     "text": [
      "WARNING:root:scikit-learn version 0.22.1 is not supported. Minimum required version: 0.17. Maximum required version: 0.19.2. Disabling scikit-learn conversion API.\n",
      "WARNING:root:TensorFlow version 2.6.0 detected. Last version known to be fully compatible is 2.3.1 .\n",
      "WARNING:root:Keras version 2.6.0 detected. Last version known to be fully compatible of Keras is 2.2.4 .\n"
     ]
    }
   ],
   "source": [
    "import coremltools as ct"
   ]
  },
  {
   "cell_type": "code",
   "execution_count": 5,
   "metadata": {},
   "outputs": [
    {
     "name": "stderr",
     "output_type": "stream",
     "text": [
      "Running TensorFlow Graph Passes: 100%|██████████| 5/5 [00:00<00:00,  7.02 passes/s]\n",
      "Converting Frontend ==> MIL Ops: 100%|██████████| 1175/1175 [00:02<00:00, 551.52 ops/s]\n",
      "Running MIL Common passes: 100%|██████████| 33/33 [00:02<00:00, 12.83 passes/s]\n",
      "Running MIL Clean up passes: 100%|██████████| 8/8 [00:00<00:00, 35.30 passes/s]\n",
      "Translating MIL ==> NeuralNetwork Ops: 100%|██████████| 1379/1379 [00:01<00:00, 1271.74 ops/s]\n"
     ]
    }
   ],
   "source": [
    "#dummy_input = torch.FloatTensor(1,3, 224, 224)\n",
    "class_labels=[i.split(os.sep)[-1] for i in glob(\"../Fooddata/Data/food-101/food-101/images/*\")]\n",
    "classifier_config = ct.ClassifierConfig(class_labels)\n",
    "\n",
    "\n",
    "image_input = ct.ImageType(shape=(1, 224, 224, 3,),scale=1/255)\n",
    "\n",
    "coreml_model = ct.convert(\n",
    "    EffNet,\n",
    "    #mode='classifier',\n",
    "    classifier_config=classifier_config,\n",
    "    inputs=[image_input]\n",
    "    #image_output_names=['output'],\n",
    "    #class_labels=[i for i in range(11)]\n",
    ")"
   ]
  },
  {
   "cell_type": "code",
   "execution_count": 6,
   "metadata": {},
   "outputs": [],
   "source": [
    "coreml_model.save('./efficientnetb2_Keras.mlmodel')"
   ]
  },
  {
   "cell_type": "code",
   "execution_count": 7,
   "metadata": {},
   "outputs": [
    {
     "data": {
      "text/plain": [
       "['grilled_salmon',\n",
       " 'creme_brulee',\n",
       " 'tacos',\n",
       " 'clam_chowder',\n",
       " 'falafel',\n",
       " 'churros',\n",
       " 'scallops',\n",
       " 'omelette',\n",
       " 'apple_pie',\n",
       " 'escargots',\n",
       " 'ceviche',\n",
       " 'beef_tartare',\n",
       " 'hot_and_sour_soup',\n",
       " 'fried_calamari',\n",
       " 'bibimbap',\n",
       " 'deviled_eggs',\n",
       " 'crab_cakes',\n",
       " 'french_toast',\n",
       " 'huevos_rancheros',\n",
       " 'croque_madame',\n",
       " 'foie_gras',\n",
       " 'sashimi',\n",
       " 'lobster_bisque',\n",
       " 'filet_mignon',\n",
       " 'caesar_salad',\n",
       " 'spaghetti_bolognese',\n",
       " 'prime_rib',\n",
       " 'gyoza',\n",
       " 'donuts',\n",
       " 'ramen',\n",
       " 'club_sandwich',\n",
       " 'baklava',\n",
       " 'poutine',\n",
       " 'pulled_pork_sandwich',\n",
       " 'beet_salad',\n",
       " 'steak',\n",
       " 'chocolate_cake',\n",
       " 'bread_pudding',\n",
       " 'ravioli',\n",
       " 'breakfast_burrito',\n",
       " 'guacamole',\n",
       " 'seaweed_salad',\n",
       " 'strawberry_shortcake',\n",
       " 'pho',\n",
       " 'cannoli',\n",
       " 'panna_cotta',\n",
       " 'bruschetta',\n",
       " 'french_onion_soup',\n",
       " 'dumplings',\n",
       " 'eggs_benedict',\n",
       " 'cheesecake',\n",
       " 'tiramisu',\n",
       " 'takoyaki',\n",
       " 'chicken_curry',\n",
       " 'macaroni_and_cheese',\n",
       " 'edamame',\n",
       " 'macarons',\n",
       " 'cheese_plate',\n",
       " 'frozen_yogurt',\n",
       " 'fish_and_chips',\n",
       " 'fried_rice',\n",
       " 'peking_duck',\n",
       " 'mussels',\n",
       " 'nachos',\n",
       " 'hamburger',\n",
       " 'garlic_bread',\n",
       " 'pad_thai',\n",
       " 'waffles',\n",
       " 'grilled_cheese_sandwich',\n",
       " 'carrot_cake',\n",
       " 'spaghetti_carbonara',\n",
       " 'miso_soup',\n",
       " 'ice_cream',\n",
       " 'sushi',\n",
       " 'red_velvet_cake',\n",
       " 'onion_rings',\n",
       " 'shrimp_and_grits',\n",
       " 'greek_salad',\n",
       " 'pancakes',\n",
       " 'pizza',\n",
       " 'baby_back_ribs',\n",
       " 'beignets',\n",
       " 'beef_carpaccio',\n",
       " 'tuna_tartare',\n",
       " 'hot_dog',\n",
       " 'spring_rolls',\n",
       " 'cup_cakes',\n",
       " 'lasagna',\n",
       " 'caprese_salad',\n",
       " 'chocolate_mousse',\n",
       " 'chicken_wings',\n",
       " 'chicken_quesadilla',\n",
       " 'gnocchi',\n",
       " 'oysters',\n",
       " 'french_fries',\n",
       " 'paella',\n",
       " 'samosa',\n",
       " 'risotto',\n",
       " 'lobster_roll_sandwich',\n",
       " 'hummus',\n",
       " 'pork_chop']"
      ]
     },
     "execution_count": 7,
     "metadata": {},
     "output_type": "execute_result"
    }
   ],
   "source": [
    "class_labels"
   ]
  },
  {
   "cell_type": "code",
   "execution_count": null,
   "metadata": {},
   "outputs": [],
   "source": []
  }
 ],
 "metadata": {
  "kernelspec": {
   "display_name": "Python 3",
   "language": "python",
   "name": "python3"
  },
  "language_info": {
   "codemirror_mode": {
    "name": "ipython",
    "version": 3
   },
   "file_extension": ".py",
   "mimetype": "text/x-python",
   "name": "python",
   "nbconvert_exporter": "python",
   "pygments_lexer": "ipython3",
   "version": "3.8.8"
  }
 },
 "nbformat": 4,
 "nbformat_minor": 4
}
